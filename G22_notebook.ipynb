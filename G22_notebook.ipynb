{
  "metadata": {
    "kernelspec": {
      "language": "python",
      "display_name": "Python 3",
      "name": "python3"
    },
    "language_info": {
      "name": "python",
      "version": "3.7.12",
      "mimetype": "text/x-python",
      "codemirror_mode": {
        "name": "ipython",
        "version": 3
      },
      "pygments_lexer": "ipython3",
      "nbconvert_exporter": "python",
      "file_extension": ".py"
    },
    "colab": {
      "name": "G22_notebook",
      "provenance": [],
      "collapsed_sections": []
    }
  },
  "nbformat_minor": 0,
  "nbformat": 4,
  "cells": [
    {
      "cell_type": "markdown",
      "source": [
        "# **Crop prediction wrt temperature and what effect does climate change has on the crops**"
      ],
      "metadata": {
        "id": "MF_KI5ncwlI9"
      }
    },
    {
      "cell_type": "markdown",
      "source": [
        "**EDA and Label Encoding**"
      ],
      "metadata": {
        "id": "DjdNpPqtAFf8"
      }
    },
    {
      "cell_type": "code",
      "source": [
        "import numpy as np\n",
        "import pandas as pd\n",
        "import matplotlib.pyplot as plt\n",
        "from sklearn.linear_model import LogisticRegression\n",
        "from sklearn.cluster import KMeans\n",
        "from sklearn.model_selection import train_test_split\n",
        "from sklearn.metrics import confusion_matrix, classification_report, accuracy_score\n",
        "import seaborn as sns\n",
        "from sklearn.preprocessing import LabelEncoder\n",
        "import random"
      ],
      "metadata": {
        "_uuid": "8f2839f25d086af736a60e9eeb907d3b93b6e0e5",
        "_cell_guid": "b1076dfc-b9ad-4769-8c92-a6c4dae69d19",
        "execution": {
          "iopub.status.busy": "2022-05-03T12:15:13.064032Z",
          "iopub.execute_input": "2022-05-03T12:15:13.065631Z",
          "iopub.status.idle": "2022-05-03T12:15:13.103643Z",
          "shell.execute_reply.started": "2022-05-03T12:15:13.064265Z",
          "shell.execute_reply": "2022-05-03T12:15:13.102757Z"
        },
        "trusted": true,
        "id": "-p-aAxP77qao"
      },
      "execution_count": null,
      "outputs": []
    },
    {
      "cell_type": "code",
      "source": [
        "data = pd.read_csv('/content/Crop_recommendation.csv')\n",
        "data.head()"
      ],
      "metadata": {
        "execution": {
          "iopub.status.busy": "2022-05-03T12:15:21.495692Z",
          "iopub.execute_input": "2022-05-03T12:15:21.495941Z",
          "iopub.status.idle": "2022-05-03T12:15:21.532818Z",
          "shell.execute_reply.started": "2022-05-03T12:15:21.495914Z",
          "shell.execute_reply": "2022-05-03T12:15:21.531887Z"
        },
        "trusted": true,
        "colab": {
          "base_uri": "https://localhost:8080/",
          "height": 206
        },
        "id": "VpYqYA0f7qaq",
        "outputId": "890474fa-f9f6-4347-c94d-a3a1d6691c6b"
      },
      "execution_count": null,
      "outputs": [
        {
          "output_type": "execute_result",
          "data": {
            "text/plain": [
              "    N   P   K  temperature   humidity        ph    rainfall label\n",
              "0  90  42  43    20.879744  82.002744  6.502985  202.935536  rice\n",
              "1  85  58  41    21.770462  80.319644  7.038096  226.655537  rice\n",
              "2  60  55  44    23.004459  82.320763  7.840207  263.964248  rice\n",
              "3  74  35  40    26.491096  80.158363  6.980401  242.864034  rice\n",
              "4  78  42  42    20.130175  81.604873  7.628473  262.717340  rice"
            ],
            "text/html": [
              "\n",
              "  <div id=\"df-fc1efdbe-26eb-42d2-9dd3-fd012fb55bee\">\n",
              "    <div class=\"colab-df-container\">\n",
              "      <div>\n",
              "<style scoped>\n",
              "    .dataframe tbody tr th:only-of-type {\n",
              "        vertical-align: middle;\n",
              "    }\n",
              "\n",
              "    .dataframe tbody tr th {\n",
              "        vertical-align: top;\n",
              "    }\n",
              "\n",
              "    .dataframe thead th {\n",
              "        text-align: right;\n",
              "    }\n",
              "</style>\n",
              "<table border=\"1\" class=\"dataframe\">\n",
              "  <thead>\n",
              "    <tr style=\"text-align: right;\">\n",
              "      <th></th>\n",
              "      <th>N</th>\n",
              "      <th>P</th>\n",
              "      <th>K</th>\n",
              "      <th>temperature</th>\n",
              "      <th>humidity</th>\n",
              "      <th>ph</th>\n",
              "      <th>rainfall</th>\n",
              "      <th>label</th>\n",
              "    </tr>\n",
              "  </thead>\n",
              "  <tbody>\n",
              "    <tr>\n",
              "      <th>0</th>\n",
              "      <td>90</td>\n",
              "      <td>42</td>\n",
              "      <td>43</td>\n",
              "      <td>20.879744</td>\n",
              "      <td>82.002744</td>\n",
              "      <td>6.502985</td>\n",
              "      <td>202.935536</td>\n",
              "      <td>rice</td>\n",
              "    </tr>\n",
              "    <tr>\n",
              "      <th>1</th>\n",
              "      <td>85</td>\n",
              "      <td>58</td>\n",
              "      <td>41</td>\n",
              "      <td>21.770462</td>\n",
              "      <td>80.319644</td>\n",
              "      <td>7.038096</td>\n",
              "      <td>226.655537</td>\n",
              "      <td>rice</td>\n",
              "    </tr>\n",
              "    <tr>\n",
              "      <th>2</th>\n",
              "      <td>60</td>\n",
              "      <td>55</td>\n",
              "      <td>44</td>\n",
              "      <td>23.004459</td>\n",
              "      <td>82.320763</td>\n",
              "      <td>7.840207</td>\n",
              "      <td>263.964248</td>\n",
              "      <td>rice</td>\n",
              "    </tr>\n",
              "    <tr>\n",
              "      <th>3</th>\n",
              "      <td>74</td>\n",
              "      <td>35</td>\n",
              "      <td>40</td>\n",
              "      <td>26.491096</td>\n",
              "      <td>80.158363</td>\n",
              "      <td>6.980401</td>\n",
              "      <td>242.864034</td>\n",
              "      <td>rice</td>\n",
              "    </tr>\n",
              "    <tr>\n",
              "      <th>4</th>\n",
              "      <td>78</td>\n",
              "      <td>42</td>\n",
              "      <td>42</td>\n",
              "      <td>20.130175</td>\n",
              "      <td>81.604873</td>\n",
              "      <td>7.628473</td>\n",
              "      <td>262.717340</td>\n",
              "      <td>rice</td>\n",
              "    </tr>\n",
              "  </tbody>\n",
              "</table>\n",
              "</div>\n",
              "      <button class=\"colab-df-convert\" onclick=\"convertToInteractive('df-fc1efdbe-26eb-42d2-9dd3-fd012fb55bee')\"\n",
              "              title=\"Convert this dataframe to an interactive table.\"\n",
              "              style=\"display:none;\">\n",
              "        \n",
              "  <svg xmlns=\"http://www.w3.org/2000/svg\" height=\"24px\"viewBox=\"0 0 24 24\"\n",
              "       width=\"24px\">\n",
              "    <path d=\"M0 0h24v24H0V0z\" fill=\"none\"/>\n",
              "    <path d=\"M18.56 5.44l.94 2.06.94-2.06 2.06-.94-2.06-.94-.94-2.06-.94 2.06-2.06.94zm-11 1L8.5 8.5l.94-2.06 2.06-.94-2.06-.94L8.5 2.5l-.94 2.06-2.06.94zm10 10l.94 2.06.94-2.06 2.06-.94-2.06-.94-.94-2.06-.94 2.06-2.06.94z\"/><path d=\"M17.41 7.96l-1.37-1.37c-.4-.4-.92-.59-1.43-.59-.52 0-1.04.2-1.43.59L10.3 9.45l-7.72 7.72c-.78.78-.78 2.05 0 2.83L4 21.41c.39.39.9.59 1.41.59.51 0 1.02-.2 1.41-.59l7.78-7.78 2.81-2.81c.8-.78.8-2.07 0-2.86zM5.41 20L4 18.59l7.72-7.72 1.47 1.35L5.41 20z\"/>\n",
              "  </svg>\n",
              "      </button>\n",
              "      \n",
              "  <style>\n",
              "    .colab-df-container {\n",
              "      display:flex;\n",
              "      flex-wrap:wrap;\n",
              "      gap: 12px;\n",
              "    }\n",
              "\n",
              "    .colab-df-convert {\n",
              "      background-color: #E8F0FE;\n",
              "      border: none;\n",
              "      border-radius: 50%;\n",
              "      cursor: pointer;\n",
              "      display: none;\n",
              "      fill: #1967D2;\n",
              "      height: 32px;\n",
              "      padding: 0 0 0 0;\n",
              "      width: 32px;\n",
              "    }\n",
              "\n",
              "    .colab-df-convert:hover {\n",
              "      background-color: #E2EBFA;\n",
              "      box-shadow: 0px 1px 2px rgba(60, 64, 67, 0.3), 0px 1px 3px 1px rgba(60, 64, 67, 0.15);\n",
              "      fill: #174EA6;\n",
              "    }\n",
              "\n",
              "    [theme=dark] .colab-df-convert {\n",
              "      background-color: #3B4455;\n",
              "      fill: #D2E3FC;\n",
              "    }\n",
              "\n",
              "    [theme=dark] .colab-df-convert:hover {\n",
              "      background-color: #434B5C;\n",
              "      box-shadow: 0px 1px 3px 1px rgba(0, 0, 0, 0.15);\n",
              "      filter: drop-shadow(0px 1px 2px rgba(0, 0, 0, 0.3));\n",
              "      fill: #FFFFFF;\n",
              "    }\n",
              "  </style>\n",
              "\n",
              "      <script>\n",
              "        const buttonEl =\n",
              "          document.querySelector('#df-fc1efdbe-26eb-42d2-9dd3-fd012fb55bee button.colab-df-convert');\n",
              "        buttonEl.style.display =\n",
              "          google.colab.kernel.accessAllowed ? 'block' : 'none';\n",
              "\n",
              "        async function convertToInteractive(key) {\n",
              "          const element = document.querySelector('#df-fc1efdbe-26eb-42d2-9dd3-fd012fb55bee');\n",
              "          const dataTable =\n",
              "            await google.colab.kernel.invokeFunction('convertToInteractive',\n",
              "                                                     [key], {});\n",
              "          if (!dataTable) return;\n",
              "\n",
              "          const docLinkHtml = 'Like what you see? Visit the ' +\n",
              "            '<a target=\"_blank\" href=https://colab.research.google.com/notebooks/data_table.ipynb>data table notebook</a>'\n",
              "            + ' to learn more about interactive tables.';\n",
              "          element.innerHTML = '';\n",
              "          dataTable['output_type'] = 'display_data';\n",
              "          await google.colab.output.renderOutput(dataTable, element);\n",
              "          const docLink = document.createElement('div');\n",
              "          docLink.innerHTML = docLinkHtml;\n",
              "          element.appendChild(docLink);\n",
              "        }\n",
              "      </script>\n",
              "    </div>\n",
              "  </div>\n",
              "  "
            ]
          },
          "metadata": {},
          "execution_count": 27
        }
      ]
    },
    {
      "cell_type": "code",
      "source": [
        "data.info()"
      ],
      "metadata": {
        "colab": {
          "base_uri": "https://localhost:8080/"
        },
        "id": "gOaH3MiGAM-K",
        "outputId": "4823d482-f086-44c9-fb87-16a639bd5dc7"
      },
      "execution_count": null,
      "outputs": [
        {
          "output_type": "stream",
          "name": "stdout",
          "text": [
            "<class 'pandas.core.frame.DataFrame'>\n",
            "RangeIndex: 2200 entries, 0 to 2199\n",
            "Data columns (total 8 columns):\n",
            " #   Column       Non-Null Count  Dtype  \n",
            "---  ------       --------------  -----  \n",
            " 0   N            2200 non-null   int64  \n",
            " 1   P            2200 non-null   int64  \n",
            " 2   K            2200 non-null   int64  \n",
            " 3   temperature  2200 non-null   float64\n",
            " 4   humidity     2200 non-null   float64\n",
            " 5   ph           2200 non-null   float64\n",
            " 6   rainfall     2200 non-null   float64\n",
            " 7   label        2200 non-null   object \n",
            "dtypes: float64(4), int64(3), object(1)\n",
            "memory usage: 137.6+ KB\n"
          ]
        }
      ]
    },
    {
      "cell_type": "code",
      "source": [
        "data.shape"
      ],
      "metadata": {
        "colab": {
          "base_uri": "https://localhost:8080/"
        },
        "id": "ReCv4K2TAfQy",
        "outputId": "b59b9192-3a85-4b9f-8e62-aaaf6184354d"
      },
      "execution_count": null,
      "outputs": [
        {
          "output_type": "execute_result",
          "data": {
            "text/plain": [
              "(2200, 8)"
            ]
          },
          "metadata": {},
          "execution_count": 4
        }
      ]
    },
    {
      "cell_type": "code",
      "source": [
        "data.dropna()\n",
        "data.shape"
      ],
      "metadata": {
        "colab": {
          "base_uri": "https://localhost:8080/"
        },
        "id": "ecblfCB1AWYQ",
        "outputId": "981bd140-717e-4e89-adb9-bf1537d6ce7f"
      },
      "execution_count": null,
      "outputs": [
        {
          "output_type": "execute_result",
          "data": {
            "text/plain": [
              "(2200, 8)"
            ]
          },
          "metadata": {},
          "execution_count": 5
        }
      ]
    },
    {
      "cell_type": "code",
      "source": [
        "x = data.drop('label', axis=1)\n",
        "labelencoder = LabelEncoder()\n",
        "label = data['label'].values\n",
        "encoded_label = labelencoder.fit_transform(label)"
      ],
      "metadata": {
        "execution": {
          "iopub.status.busy": "2022-05-03T12:15:24.278237Z",
          "iopub.execute_input": "2022-05-03T12:15:24.278966Z",
          "iopub.status.idle": "2022-05-03T12:15:25.560632Z",
          "shell.execute_reply.started": "2022-05-03T12:15:24.278919Z",
          "shell.execute_reply": "2022-05-03T12:15:25.559694Z"
        },
        "trusted": true,
        "id": "LqmxTYn57qar"
      },
      "execution_count": null,
      "outputs": []
    },
    {
      "cell_type": "code",
      "source": [
        "data['labelEncoded'] = labelencoder.fit_transform(data.label.values)\n",
        "data.head()\n",
        "labelencoder_name_mapping = dict(zip(labelencoder.classes_, labelencoder.transform(labelencoder.classes_)))\n",
        "print(labelencoder_name_mapping)"
      ],
      "metadata": {
        "execution": {
          "iopub.status.busy": "2022-05-03T12:25:02.228600Z",
          "iopub.execute_input": "2022-05-03T12:25:02.229048Z",
          "iopub.status.idle": "2022-05-03T12:25:02.241631Z",
          "shell.execute_reply.started": "2022-05-03T12:25:02.229007Z",
          "shell.execute_reply": "2022-05-03T12:25:02.240880Z"
        },
        "trusted": true,
        "id": "dvwSkyj17qas",
        "colab": {
          "base_uri": "https://localhost:8080/"
        },
        "outputId": "db2d6611-ad5e-4f2e-de20-63099bc6b442"
      },
      "execution_count": null,
      "outputs": [
        {
          "output_type": "stream",
          "name": "stdout",
          "text": [
            "{'apple': 0, 'banana': 1, 'blackgram': 2, 'chickpea': 3, 'coconut': 4, 'coffee': 5, 'cotton': 6, 'grapes': 7, 'jute': 8, 'kidneybeans': 9, 'lentil': 10, 'maize': 11, 'mango': 12, 'mothbeans': 13, 'mungbean': 14, 'muskmelon': 15, 'orange': 16, 'papaya': 17, 'pigeonpeas': 18, 'pomegranate': 19, 'rice': 20, 'watermelon': 21}\n"
          ]
        }
      ]
    },
    {
      "cell_type": "code",
      "source": [
        "data.head()"
      ],
      "metadata": {
        "colab": {
          "base_uri": "https://localhost:8080/",
          "height": 206
        },
        "id": "4jjADB4aBWUV",
        "outputId": "a86d0195-86f9-49d1-d825-182f356cc796"
      },
      "execution_count": null,
      "outputs": [
        {
          "output_type": "execute_result",
          "data": {
            "text/plain": [
              "    N   P   K  temperature   humidity        ph    rainfall label  \\\n",
              "0  90  42  43    20.879744  82.002744  6.502985  202.935536  rice   \n",
              "1  85  58  41    21.770462  80.319644  7.038096  226.655537  rice   \n",
              "2  60  55  44    23.004459  82.320763  7.840207  263.964248  rice   \n",
              "3  74  35  40    26.491096  80.158363  6.980401  242.864034  rice   \n",
              "4  78  42  42    20.130175  81.604873  7.628473  262.717340  rice   \n",
              "\n",
              "   labelEncoded  \n",
              "0            20  \n",
              "1            20  \n",
              "2            20  \n",
              "3            20  \n",
              "4            20  "
            ],
            "text/html": [
              "\n",
              "  <div id=\"df-de393e60-065f-4d6d-b2ed-21dc79040bb5\">\n",
              "    <div class=\"colab-df-container\">\n",
              "      <div>\n",
              "<style scoped>\n",
              "    .dataframe tbody tr th:only-of-type {\n",
              "        vertical-align: middle;\n",
              "    }\n",
              "\n",
              "    .dataframe tbody tr th {\n",
              "        vertical-align: top;\n",
              "    }\n",
              "\n",
              "    .dataframe thead th {\n",
              "        text-align: right;\n",
              "    }\n",
              "</style>\n",
              "<table border=\"1\" class=\"dataframe\">\n",
              "  <thead>\n",
              "    <tr style=\"text-align: right;\">\n",
              "      <th></th>\n",
              "      <th>N</th>\n",
              "      <th>P</th>\n",
              "      <th>K</th>\n",
              "      <th>temperature</th>\n",
              "      <th>humidity</th>\n",
              "      <th>ph</th>\n",
              "      <th>rainfall</th>\n",
              "      <th>label</th>\n",
              "      <th>labelEncoded</th>\n",
              "    </tr>\n",
              "  </thead>\n",
              "  <tbody>\n",
              "    <tr>\n",
              "      <th>0</th>\n",
              "      <td>90</td>\n",
              "      <td>42</td>\n",
              "      <td>43</td>\n",
              "      <td>20.879744</td>\n",
              "      <td>82.002744</td>\n",
              "      <td>6.502985</td>\n",
              "      <td>202.935536</td>\n",
              "      <td>rice</td>\n",
              "      <td>20</td>\n",
              "    </tr>\n",
              "    <tr>\n",
              "      <th>1</th>\n",
              "      <td>85</td>\n",
              "      <td>58</td>\n",
              "      <td>41</td>\n",
              "      <td>21.770462</td>\n",
              "      <td>80.319644</td>\n",
              "      <td>7.038096</td>\n",
              "      <td>226.655537</td>\n",
              "      <td>rice</td>\n",
              "      <td>20</td>\n",
              "    </tr>\n",
              "    <tr>\n",
              "      <th>2</th>\n",
              "      <td>60</td>\n",
              "      <td>55</td>\n",
              "      <td>44</td>\n",
              "      <td>23.004459</td>\n",
              "      <td>82.320763</td>\n",
              "      <td>7.840207</td>\n",
              "      <td>263.964248</td>\n",
              "      <td>rice</td>\n",
              "      <td>20</td>\n",
              "    </tr>\n",
              "    <tr>\n",
              "      <th>3</th>\n",
              "      <td>74</td>\n",
              "      <td>35</td>\n",
              "      <td>40</td>\n",
              "      <td>26.491096</td>\n",
              "      <td>80.158363</td>\n",
              "      <td>6.980401</td>\n",
              "      <td>242.864034</td>\n",
              "      <td>rice</td>\n",
              "      <td>20</td>\n",
              "    </tr>\n",
              "    <tr>\n",
              "      <th>4</th>\n",
              "      <td>78</td>\n",
              "      <td>42</td>\n",
              "      <td>42</td>\n",
              "      <td>20.130175</td>\n",
              "      <td>81.604873</td>\n",
              "      <td>7.628473</td>\n",
              "      <td>262.717340</td>\n",
              "      <td>rice</td>\n",
              "      <td>20</td>\n",
              "    </tr>\n",
              "  </tbody>\n",
              "</table>\n",
              "</div>\n",
              "      <button class=\"colab-df-convert\" onclick=\"convertToInteractive('df-de393e60-065f-4d6d-b2ed-21dc79040bb5')\"\n",
              "              title=\"Convert this dataframe to an interactive table.\"\n",
              "              style=\"display:none;\">\n",
              "        \n",
              "  <svg xmlns=\"http://www.w3.org/2000/svg\" height=\"24px\"viewBox=\"0 0 24 24\"\n",
              "       width=\"24px\">\n",
              "    <path d=\"M0 0h24v24H0V0z\" fill=\"none\"/>\n",
              "    <path d=\"M18.56 5.44l.94 2.06.94-2.06 2.06-.94-2.06-.94-.94-2.06-.94 2.06-2.06.94zm-11 1L8.5 8.5l.94-2.06 2.06-.94-2.06-.94L8.5 2.5l-.94 2.06-2.06.94zm10 10l.94 2.06.94-2.06 2.06-.94-2.06-.94-.94-2.06-.94 2.06-2.06.94z\"/><path d=\"M17.41 7.96l-1.37-1.37c-.4-.4-.92-.59-1.43-.59-.52 0-1.04.2-1.43.59L10.3 9.45l-7.72 7.72c-.78.78-.78 2.05 0 2.83L4 21.41c.39.39.9.59 1.41.59.51 0 1.02-.2 1.41-.59l7.78-7.78 2.81-2.81c.8-.78.8-2.07 0-2.86zM5.41 20L4 18.59l7.72-7.72 1.47 1.35L5.41 20z\"/>\n",
              "  </svg>\n",
              "      </button>\n",
              "      \n",
              "  <style>\n",
              "    .colab-df-container {\n",
              "      display:flex;\n",
              "      flex-wrap:wrap;\n",
              "      gap: 12px;\n",
              "    }\n",
              "\n",
              "    .colab-df-convert {\n",
              "      background-color: #E8F0FE;\n",
              "      border: none;\n",
              "      border-radius: 50%;\n",
              "      cursor: pointer;\n",
              "      display: none;\n",
              "      fill: #1967D2;\n",
              "      height: 32px;\n",
              "      padding: 0 0 0 0;\n",
              "      width: 32px;\n",
              "    }\n",
              "\n",
              "    .colab-df-convert:hover {\n",
              "      background-color: #E2EBFA;\n",
              "      box-shadow: 0px 1px 2px rgba(60, 64, 67, 0.3), 0px 1px 3px 1px rgba(60, 64, 67, 0.15);\n",
              "      fill: #174EA6;\n",
              "    }\n",
              "\n",
              "    [theme=dark] .colab-df-convert {\n",
              "      background-color: #3B4455;\n",
              "      fill: #D2E3FC;\n",
              "    }\n",
              "\n",
              "    [theme=dark] .colab-df-convert:hover {\n",
              "      background-color: #434B5C;\n",
              "      box-shadow: 0px 1px 3px 1px rgba(0, 0, 0, 0.15);\n",
              "      filter: drop-shadow(0px 1px 2px rgba(0, 0, 0, 0.3));\n",
              "      fill: #FFFFFF;\n",
              "    }\n",
              "  </style>\n",
              "\n",
              "      <script>\n",
              "        const buttonEl =\n",
              "          document.querySelector('#df-de393e60-065f-4d6d-b2ed-21dc79040bb5 button.colab-df-convert');\n",
              "        buttonEl.style.display =\n",
              "          google.colab.kernel.accessAllowed ? 'block' : 'none';\n",
              "\n",
              "        async function convertToInteractive(key) {\n",
              "          const element = document.querySelector('#df-de393e60-065f-4d6d-b2ed-21dc79040bb5');\n",
              "          const dataTable =\n",
              "            await google.colab.kernel.invokeFunction('convertToInteractive',\n",
              "                                                     [key], {});\n",
              "          if (!dataTable) return;\n",
              "\n",
              "          const docLinkHtml = 'Like what you see? Visit the ' +\n",
              "            '<a target=\"_blank\" href=https://colab.research.google.com/notebooks/data_table.ipynb>data table notebook</a>'\n",
              "            + ' to learn more about interactive tables.';\n",
              "          element.innerHTML = '';\n",
              "          dataTable['output_type'] = 'display_data';\n",
              "          await google.colab.output.renderOutput(dataTable, element);\n",
              "          const docLink = document.createElement('div');\n",
              "          docLink.innerHTML = docLinkHtml;\n",
              "          element.appendChild(docLink);\n",
              "        }\n",
              "      </script>\n",
              "    </div>\n",
              "  </div>\n",
              "  "
            ]
          },
          "metadata": {},
          "execution_count": 8
        }
      ]
    },
    {
      "cell_type": "code",
      "source": [
        "corr = data.drop('labelEncoded', axis=1).corr()\n",
        "corr.style.background_gradient()"
      ],
      "metadata": {
        "colab": {
          "base_uri": "https://localhost:8080/",
          "height": 269
        },
        "id": "2iboe_Neph_5",
        "outputId": "c65f49ad-bfff-4b9f-ad98-487eba8a8c9f"
      },
      "execution_count": null,
      "outputs": [
        {
          "output_type": "execute_result",
          "data": {
            "text/plain": [
              "<pandas.io.formats.style.Styler at 0x7fb3fe19d3d0>"
            ],
            "text/html": [
              "<style type=\"text/css\">\n",
              "#T_b60f7_row0_col0, #T_b60f7_row1_col1, #T_b60f7_row2_col2, #T_b60f7_row3_col3, #T_b60f7_row4_col4, #T_b60f7_row5_col5, #T_b60f7_row6_col6 {\n",
              "  background-color: #023858;\n",
              "  color: #f1f1f1;\n",
              "}\n",
              "#T_b60f7_row0_col1, #T_b60f7_row1_col0, #T_b60f7_row1_col4, #T_b60f7_row2_col3, #T_b60f7_row2_col5, #T_b60f7_row5_col2, #T_b60f7_row5_col6 {\n",
              "  background-color: #fff7fb;\n",
              "  color: #000000;\n",
              "}\n",
              "#T_b60f7_row0_col2, #T_b60f7_row1_col5 {\n",
              "  background-color: #fbf4f9;\n",
              "  color: #000000;\n",
              "}\n",
              "#T_b60f7_row0_col3 {\n",
              "  background-color: #e4e1ef;\n",
              "  color: #000000;\n",
              "}\n",
              "#T_b60f7_row0_col4, #T_b60f7_row2_col4 {\n",
              "  background-color: #c8cde4;\n",
              "  color: #000000;\n",
              "}\n",
              "#T_b60f7_row0_col5 {\n",
              "  background-color: #d5d5e8;\n",
              "  color: #000000;\n",
              "}\n",
              "#T_b60f7_row0_col6 {\n",
              "  background-color: #e7e3f0;\n",
              "  color: #000000;\n",
              "}\n",
              "#T_b60f7_row1_col2 {\n",
              "  background-color: #056ba9;\n",
              "  color: #f1f1f1;\n",
              "}\n",
              "#T_b60f7_row1_col3 {\n",
              "  background-color: #fbf3f9;\n",
              "  color: #000000;\n",
              "}\n",
              "#T_b60f7_row1_col6 {\n",
              "  background-color: #f9f2f8;\n",
              "  color: #000000;\n",
              "}\n",
              "#T_b60f7_row2_col0, #T_b60f7_row3_col6 {\n",
              "  background-color: #f4eef6;\n",
              "  color: #000000;\n",
              "}\n",
              "#T_b60f7_row2_col1 {\n",
              "  background-color: #0569a5;\n",
              "  color: #f1f1f1;\n",
              "}\n",
              "#T_b60f7_row2_col6 {\n",
              "  background-color: #f8f1f8;\n",
              "  color: #000000;\n",
              "}\n",
              "#T_b60f7_row3_col0 {\n",
              "  background-color: #d9d8ea;\n",
              "  color: #000000;\n",
              "}\n",
              "#T_b60f7_row3_col1 {\n",
              "  background-color: #f2ecf5;\n",
              "  color: #000000;\n",
              "}\n",
              "#T_b60f7_row3_col2 {\n",
              "  background-color: #fef6fb;\n",
              "  color: #000000;\n",
              "}\n",
              "#T_b60f7_row3_col4 {\n",
              "  background-color: #c2cbe2;\n",
              "  color: #000000;\n",
              "}\n",
              "#T_b60f7_row3_col5 {\n",
              "  background-color: #ebe6f2;\n",
              "  color: #000000;\n",
              "}\n",
              "#T_b60f7_row4_col0 {\n",
              "  background-color: #b1c2de;\n",
              "  color: #000000;\n",
              "}\n",
              "#T_b60f7_row4_col1 {\n",
              "  background-color: #f1ebf5;\n",
              "  color: #000000;\n",
              "}\n",
              "#T_b60f7_row4_col2 {\n",
              "  background-color: #bdc8e1;\n",
              "  color: #000000;\n",
              "}\n",
              "#T_b60f7_row4_col3 {\n",
              "  background-color: #bbc7e0;\n",
              "  color: #000000;\n",
              "}\n",
              "#T_b60f7_row4_col5 {\n",
              "  background-color: #e9e5f1;\n",
              "  color: #000000;\n",
              "}\n",
              "#T_b60f7_row4_col6 {\n",
              "  background-color: #e0dded;\n",
              "  color: #000000;\n",
              "}\n",
              "#T_b60f7_row5_col0 {\n",
              "  background-color: #cacee5;\n",
              "  color: #000000;\n",
              "}\n",
              "#T_b60f7_row5_col1 {\n",
              "  background-color: #f4edf6;\n",
              "  color: #000000;\n",
              "}\n",
              "#T_b60f7_row5_col3 {\n",
              "  background-color: #ede7f2;\n",
              "  color: #000000;\n",
              "}\n",
              "#T_b60f7_row5_col4, #T_b60f7_row6_col2 {\n",
              "  background-color: #f0eaf4;\n",
              "  color: #000000;\n",
              "}\n",
              "#T_b60f7_row6_col0 {\n",
              "  background-color: #d3d4e7;\n",
              "  color: #000000;\n",
              "}\n",
              "#T_b60f7_row6_col1 {\n",
              "  background-color: #eae6f1;\n",
              "  color: #000000;\n",
              "}\n",
              "#T_b60f7_row6_col3 {\n",
              "  background-color: #eee9f3;\n",
              "  color: #000000;\n",
              "}\n",
              "#T_b60f7_row6_col4 {\n",
              "  background-color: #dedcec;\n",
              "  color: #000000;\n",
              "}\n",
              "#T_b60f7_row6_col5 {\n",
              "  background-color: #f7f0f7;\n",
              "  color: #000000;\n",
              "}\n",
              "</style>\n",
              "<table id=\"T_b60f7_\" class=\"dataframe\">\n",
              "  <thead>\n",
              "    <tr>\n",
              "      <th class=\"blank level0\" >&nbsp;</th>\n",
              "      <th class=\"col_heading level0 col0\" >N</th>\n",
              "      <th class=\"col_heading level0 col1\" >P</th>\n",
              "      <th class=\"col_heading level0 col2\" >K</th>\n",
              "      <th class=\"col_heading level0 col3\" >temperature</th>\n",
              "      <th class=\"col_heading level0 col4\" >humidity</th>\n",
              "      <th class=\"col_heading level0 col5\" >ph</th>\n",
              "      <th class=\"col_heading level0 col6\" >rainfall</th>\n",
              "    </tr>\n",
              "  </thead>\n",
              "  <tbody>\n",
              "    <tr>\n",
              "      <th id=\"T_b60f7_level0_row0\" class=\"row_heading level0 row0\" >N</th>\n",
              "      <td id=\"T_b60f7_row0_col0\" class=\"data row0 col0\" >1.000000</td>\n",
              "      <td id=\"T_b60f7_row0_col1\" class=\"data row0 col1\" >-0.231460</td>\n",
              "      <td id=\"T_b60f7_row0_col2\" class=\"data row0 col2\" >-0.140512</td>\n",
              "      <td id=\"T_b60f7_row0_col3\" class=\"data row0 col3\" >0.026504</td>\n",
              "      <td id=\"T_b60f7_row0_col4\" class=\"data row0 col4\" >0.190688</td>\n",
              "      <td id=\"T_b60f7_row0_col5\" class=\"data row0 col5\" >0.096683</td>\n",
              "      <td id=\"T_b60f7_row0_col6\" class=\"data row0 col6\" >0.059020</td>\n",
              "    </tr>\n",
              "    <tr>\n",
              "      <th id=\"T_b60f7_level0_row1\" class=\"row_heading level0 row1\" >P</th>\n",
              "      <td id=\"T_b60f7_row1_col0\" class=\"data row1 col0\" >-0.231460</td>\n",
              "      <td id=\"T_b60f7_row1_col1\" class=\"data row1 col1\" >1.000000</td>\n",
              "      <td id=\"T_b60f7_row1_col2\" class=\"data row1 col2\" >0.736232</td>\n",
              "      <td id=\"T_b60f7_row1_col3\" class=\"data row1 col3\" >-0.127541</td>\n",
              "      <td id=\"T_b60f7_row1_col4\" class=\"data row1 col4\" >-0.118734</td>\n",
              "      <td id=\"T_b60f7_row1_col5\" class=\"data row1 col5\" >-0.138019</td>\n",
              "      <td id=\"T_b60f7_row1_col6\" class=\"data row1 col6\" >-0.063839</td>\n",
              "    </tr>\n",
              "    <tr>\n",
              "      <th id=\"T_b60f7_level0_row2\" class=\"row_heading level0 row2\" >K</th>\n",
              "      <td id=\"T_b60f7_row2_col0\" class=\"data row2 col0\" >-0.140512</td>\n",
              "      <td id=\"T_b60f7_row2_col1\" class=\"data row2 col1\" >0.736232</td>\n",
              "      <td id=\"T_b60f7_row2_col2\" class=\"data row2 col2\" >1.000000</td>\n",
              "      <td id=\"T_b60f7_row2_col3\" class=\"data row2 col3\" >-0.160387</td>\n",
              "      <td id=\"T_b60f7_row2_col4\" class=\"data row2 col4\" >0.190859</td>\n",
              "      <td id=\"T_b60f7_row2_col5\" class=\"data row2 col5\" >-0.169503</td>\n",
              "      <td id=\"T_b60f7_row2_col6\" class=\"data row2 col6\" >-0.053461</td>\n",
              "    </tr>\n",
              "    <tr>\n",
              "      <th id=\"T_b60f7_level0_row3\" class=\"row_heading level0 row3\" >temperature</th>\n",
              "      <td id=\"T_b60f7_row3_col0\" class=\"data row3 col0\" >0.026504</td>\n",
              "      <td id=\"T_b60f7_row3_col1\" class=\"data row3 col1\" >-0.127541</td>\n",
              "      <td id=\"T_b60f7_row3_col2\" class=\"data row3 col2\" >-0.160387</td>\n",
              "      <td id=\"T_b60f7_row3_col3\" class=\"data row3 col3\" >1.000000</td>\n",
              "      <td id=\"T_b60f7_row3_col4\" class=\"data row3 col4\" >0.205320</td>\n",
              "      <td id=\"T_b60f7_row3_col5\" class=\"data row3 col5\" >-0.017795</td>\n",
              "      <td id=\"T_b60f7_row3_col6\" class=\"data row3 col6\" >-0.030084</td>\n",
              "    </tr>\n",
              "    <tr>\n",
              "      <th id=\"T_b60f7_level0_row4\" class=\"row_heading level0 row4\" >humidity</th>\n",
              "      <td id=\"T_b60f7_row4_col0\" class=\"data row4 col0\" >0.190688</td>\n",
              "      <td id=\"T_b60f7_row4_col1\" class=\"data row4 col1\" >-0.118734</td>\n",
              "      <td id=\"T_b60f7_row4_col2\" class=\"data row4 col2\" >0.190859</td>\n",
              "      <td id=\"T_b60f7_row4_col3\" class=\"data row4 col3\" >0.205320</td>\n",
              "      <td id=\"T_b60f7_row4_col4\" class=\"data row4 col4\" >1.000000</td>\n",
              "      <td id=\"T_b60f7_row4_col5\" class=\"data row4 col5\" >-0.008483</td>\n",
              "      <td id=\"T_b60f7_row4_col6\" class=\"data row4 col6\" >0.094423</td>\n",
              "    </tr>\n",
              "    <tr>\n",
              "      <th id=\"T_b60f7_level0_row5\" class=\"row_heading level0 row5\" >ph</th>\n",
              "      <td id=\"T_b60f7_row5_col0\" class=\"data row5 col0\" >0.096683</td>\n",
              "      <td id=\"T_b60f7_row5_col1\" class=\"data row5 col1\" >-0.138019</td>\n",
              "      <td id=\"T_b60f7_row5_col2\" class=\"data row5 col2\" >-0.169503</td>\n",
              "      <td id=\"T_b60f7_row5_col3\" class=\"data row5 col3\" >-0.017795</td>\n",
              "      <td id=\"T_b60f7_row5_col4\" class=\"data row5 col4\" >-0.008483</td>\n",
              "      <td id=\"T_b60f7_row5_col5\" class=\"data row5 col5\" >1.000000</td>\n",
              "      <td id=\"T_b60f7_row5_col6\" class=\"data row5 col6\" >-0.109069</td>\n",
              "    </tr>\n",
              "    <tr>\n",
              "      <th id=\"T_b60f7_level0_row6\" class=\"row_heading level0 row6\" >rainfall</th>\n",
              "      <td id=\"T_b60f7_row6_col0\" class=\"data row6 col0\" >0.059020</td>\n",
              "      <td id=\"T_b60f7_row6_col1\" class=\"data row6 col1\" >-0.063839</td>\n",
              "      <td id=\"T_b60f7_row6_col2\" class=\"data row6 col2\" >-0.053461</td>\n",
              "      <td id=\"T_b60f7_row6_col3\" class=\"data row6 col3\" >-0.030084</td>\n",
              "      <td id=\"T_b60f7_row6_col4\" class=\"data row6 col4\" >0.094423</td>\n",
              "      <td id=\"T_b60f7_row6_col5\" class=\"data row6 col5\" >-0.109069</td>\n",
              "      <td id=\"T_b60f7_row6_col6\" class=\"data row6 col6\" >1.000000</td>\n",
              "    </tr>\n",
              "  </tbody>\n",
              "</table>\n"
            ]
          },
          "metadata": {},
          "execution_count": 9
        }
      ]
    },
    {
      "cell_type": "code",
      "source": [
        "plt.matshow(corr)\n",
        "plt.show()"
      ],
      "metadata": {
        "colab": {
          "base_uri": "https://localhost:8080/",
          "height": 275
        },
        "id": "VGxXNW58puY4",
        "outputId": "cfff19fa-940d-430d-948d-c573dbf19466"
      },
      "execution_count": null,
      "outputs": [
        {
          "output_type": "display_data",
          "data": {
            "text/plain": [
              "<Figure size 288x288 with 1 Axes>"
            ],
            "image/png": "[encoded data removed]"
          },
          "metadata": {
            "needs_background": "light"
          }
        }
      ]
    },
    {
      "cell_type": "code",
      "source": [
        "data['label'].value_counts()"
      ],
      "metadata": {
        "colab": {
          "base_uri": "https://localhost:8080/"
        },
        "id": "I12VhZ4Rrrl6",
        "outputId": "d96620d8-4c2f-4a18-a01c-556ca8d253b9"
      },
      "execution_count": null,
      "outputs": [
        {
          "output_type": "execute_result",
          "data": {
            "text/plain": [
              "rice           100\n",
              "maize          100\n",
              "jute           100\n",
              "cotton         100\n",
              "coconut        100\n",
              "papaya         100\n",
              "orange         100\n",
              "apple          100\n",
              "muskmelon      100\n",
              "watermelon     100\n",
              "grapes         100\n",
              "mango          100\n",
              "banana         100\n",
              "pomegranate    100\n",
              "lentil         100\n",
              "blackgram      100\n",
              "mungbean       100\n",
              "mothbeans      100\n",
              "pigeonpeas     100\n",
              "kidneybeans    100\n",
              "chickpea       100\n",
              "coffee         100\n",
              "Name: label, dtype: int64"
            ]
          },
          "metadata": {},
          "execution_count": 11
        }
      ]
    },
    {
      "cell_type": "code",
      "source": [
        "print(\"Summer Crops\")\n",
        "print(data[(data['temperature'] > 30) & (data['humidity'] > 50)]['label'].unique())\n",
        "print(\"\\n\")\n",
        "print(\"Winter Crops\")\n",
        "print(data[(data['temperature'] < 20) & (data['humidity'] > 30)]['label'].unique())\n",
        "print(\"\\n\")\n",
        "print(\"Rainy Crops\")\n",
        "print(data[(data['rainfall'] > 200) & (data['humidity'] > 30)]['label'].unique())"
      ],
      "metadata": {
        "colab": {
          "base_uri": "https://localhost:8080/"
        },
        "id": "PthyLAxlr_jz",
        "outputId": "fa3ba379-7fd0-4852-dea0-22ae7723897f"
      },
      "execution_count": null,
      "outputs": [
        {
          "output_type": "stream",
          "name": "stdout",
          "text": [
            "Summer Crops\n",
            "['pigeonpeas' 'mothbeans' 'blackgram' 'mango' 'grapes' 'orange' 'papaya']\n",
            "\n",
            "\n",
            "Winter Crops\n",
            "['maize' 'pigeonpeas' 'lentil' 'pomegranate' 'grapes' 'orange']\n",
            "\n",
            "\n",
            "Rainy Crops\n",
            "['rice' 'papaya' 'coconut']\n"
          ]
        }
      ]
    },
    {
      "cell_type": "markdown",
      "source": [
        "# KMeans to cluster together similar crops"
      ],
      "metadata": {
        "id": "84C37JYjsr2c"
      }
    },
    {
      "cell_type": "code",
      "source": [
        "sse = []\n",
        "for i in range(1, 11):\n",
        "    km = KMeans(n_clusters = i, init = 'k-means++', max_iter = 300, n_init = 10, random_state = 0)\n",
        "    km.fit(x)\n",
        "    sse.append(km.inertia_)\n",
        "\n",
        "plt.plot(range(1, 11), sse)\n",
        "plt.title('The Elbow Method', fontsize = 20)\n",
        "plt.xlabel('No. of Clusters')\n",
        "plt.ylabel('sse')\n",
        "plt.show()"
      ],
      "metadata": {
        "colab": {
          "base_uri": "https://localhost:8080/",
          "height": 300
        },
        "id": "xG_jad1rsrSc",
        "outputId": "e2fdda4a-7489-4064-895d-f6cacccca710"
      },
      "execution_count": null,
      "outputs": [
        {
          "output_type": "display_data",
          "data": {
            "text/plain": [
              "<Figure size 432x288 with 1 Axes>"
            ],
            "image/png": "[encoded data removed]"
          },
          "metadata": {
            "needs_background": "light"
          }
        }
      ]
    },
    {
      "cell_type": "code",
      "source": [
        "n_clusters = 4\n",
        "km = KMeans(n_clusters = 4, init = 'k-means++', max_iter = 300, n_init = 10, random_state = 0)\n",
        "y_means = km.fit_predict(x)\n",
        "\n",
        "a = data['label']\n",
        "y_means = pd.DataFrame(y_means)\n",
        "z = pd.concat([y_means, a], axis = 1)\n",
        "z = z.rename(columns = {0: 'cluster'})\n",
        "\n",
        "print(\"Crops in First Cluster:\", z[z['cluster'] == 0]['label'].unique())\n",
        "print(\"\\n\")\n",
        "print(\"Crops in Second Cluster:\", z[z['cluster'] == 1]['label'].unique())\n",
        "print(\"\\n\")\n",
        "print(\"Crops in Third Cluster:\", z[z['cluster'] == 2]['label'].unique())\n",
        "print(\"\\n\")\n",
        "print(\"Crops in Fourth Cluster:\", z[z['cluster'] == 3]['label'].unique())"
      ],
      "metadata": {
        "colab": {
          "base_uri": "https://localhost:8080/"
        },
        "id": "8bm0yP5StAWu",
        "outputId": "035b31a8-7df8-4a04-f7f4-1c37649d097a"
      },
      "execution_count": null,
      "outputs": [
        {
          "output_type": "stream",
          "name": "stdout",
          "text": [
            "Crops in First Cluster: ['maize' 'chickpea' 'kidneybeans' 'pigeonpeas' 'mothbeans' 'mungbean'\n",
            " 'blackgram' 'lentil' 'pomegranate' 'mango' 'orange' 'papaya' 'coconut']\n",
            "\n",
            "\n",
            "Crops in Second Cluster: ['maize' 'banana' 'watermelon' 'muskmelon' 'papaya' 'cotton' 'coffee']\n",
            "\n",
            "\n",
            "Crops in Third Cluster: ['grapes' 'apple']\n",
            "\n",
            "\n",
            "Crops in Fourth Cluster: ['rice' 'pigeonpeas' 'papaya' 'coconut' 'jute' 'coffee']\n"
          ]
        }
      ]
    },
    {
      "cell_type": "markdown",
      "source": [
        "# Logistic Regression Model for normal conditions to predict crops"
      ],
      "metadata": {
        "id": "LYMAttUSBKRW"
      }
    },
    {
      "cell_type": "code",
      "source": [
        "X_train, X_test, y_train, y_test = train_test_split(x, data.labelEncoded, test_size=0.8, random_state=42)"
      ],
      "metadata": {
        "execution": {
          "iopub.status.busy": "2022-05-03T12:27:27.092934Z",
          "iopub.execute_input": "2022-05-03T12:27:27.093655Z",
          "iopub.status.idle": "2022-05-03T12:27:27.099781Z",
          "shell.execute_reply.started": "2022-05-03T12:27:27.093618Z",
          "shell.execute_reply": "2022-05-03T12:27:27.098840Z"
        },
        "trusted": true,
        "id": "AQ6qzmRk7qas"
      },
      "execution_count": null,
      "outputs": []
    },
    {
      "cell_type": "code",
      "source": [
        "model = LogisticRegression()\n",
        "model.fit(X_train, y_train)"
      ],
      "metadata": {
        "execution": {
          "iopub.status.busy": "2022-05-03T12:27:52.460728Z",
          "iopub.execute_input": "2022-05-03T12:27:52.461466Z",
          "iopub.status.idle": "2022-05-03T12:27:52.543151Z",
          "shell.execute_reply.started": "2022-05-03T12:27:52.461429Z",
          "shell.execute_reply": "2022-05-03T12:27:52.542648Z"
        },
        "trusted": true,
        "id": "GYIZcKqW7qas",
        "colab": {
          "base_uri": "https://localhost:8080/"
        },
        "outputId": "8c0d6dc9-0a4c-4695-ec79-a31f7a2af88f"
      },
      "execution_count": null,
      "outputs": [
        {
          "output_type": "stream",
          "name": "stderr",
          "text": [
            "/usr/local/lib/python3.7/dist-packages/sklearn/linear_model/_logistic.py:818: ConvergenceWarning: lbfgs failed to converge (status=1):\n",
            "STOP: TOTAL NO. of ITERATIONS REACHED LIMIT.\n",
            "\n",
            "Increase the number of iterations (max_iter) or scale the data as shown in:\n",
            "    https://scikit-learn.org/stable/modules/preprocessing.html\n",
            "Please also refer to the documentation for alternative solver options:\n",
            "    https://scikit-learn.org/stable/modules/linear_model.html#logistic-regression\n",
            "  extra_warning_msg=_LOGISTIC_SOLVER_CONVERGENCE_MSG,\n"
          ]
        },
        {
          "output_type": "execute_result",
          "data": {
            "text/plain": [
              "LogisticRegression()"
            ]
          },
          "metadata": {},
          "execution_count": 16
        }
      ]
    },
    {
      "cell_type": "code",
      "source": [
        "y_pred_train = model.predict(X_train)\n",
        "conf_mat = confusion_matrix(y_train, y_pred_train)\n",
        "sns.heatmap(conf_mat, annot=True)"
      ],
      "metadata": {
        "colab": {
          "base_uri": "https://localhost:8080/",
          "height": 290
        },
        "id": "jUI7vRGpBkVn",
        "outputId": "113f4283-1369-43ee-fbd1-7c1d3c88d6fb"
      },
      "execution_count": null,
      "outputs": [
        {
          "output_type": "execute_result",
          "data": {
            "text/plain": [
              "<matplotlib.axes._subplots.AxesSubplot at 0x7fb3dd8a2890>"
            ]
          },
          "metadata": {},
          "execution_count": 17
        },
        {
          "output_type": "display_data",
          "data": {
            "text/plain": [
              "<Figure size 432x288 with 2 Axes>"
            ],
            "image/png": "[encoded data removed]"
          },
          "metadata": {
            "needs_background": "light"
          }
        }
      ]
    },
    {
      "cell_type": "code",
      "source": [
        "print(classification_report(y_train, y_pred_train))\n",
        "print('Train Accuracy Score: ',accuracy_score(y_train, y_pred_train))"
      ],
      "metadata": {
        "colab": {
          "base_uri": "https://localhost:8080/"
        },
        "id": "TtDs0a0fB_57",
        "outputId": "e0697f1f-1e3f-4cbf-d51f-af920350ce65"
      },
      "execution_count": null,
      "outputs": [
        {
          "output_type": "stream",
          "name": "stdout",
          "text": [
            "              precision    recall  f1-score   support\n",
            "\n",
            "           0       1.00      1.00      1.00        17\n",
            "           1       1.00      1.00      1.00        21\n",
            "           2       1.00      1.00      1.00        18\n",
            "           3       1.00      1.00      1.00        18\n",
            "           4       1.00      1.00      1.00        20\n",
            "           5       1.00      1.00      1.00        21\n",
            "           6       0.96      1.00      0.98        22\n",
            "           7       1.00      1.00      1.00        19\n",
            "           8       0.86      0.96      0.91        25\n",
            "           9       1.00      1.00      1.00        16\n",
            "          10       1.00      1.00      1.00        22\n",
            "          11       1.00      0.95      0.97        19\n",
            "          12       1.00      1.00      1.00        25\n",
            "          13       1.00      1.00      1.00        15\n",
            "          14       1.00      1.00      1.00        25\n",
            "          15       1.00      1.00      1.00        19\n",
            "          16       1.00      1.00      1.00        22\n",
            "          17       1.00      1.00      1.00        19\n",
            "          18       1.00      1.00      1.00        21\n",
            "          19       1.00      1.00      1.00        20\n",
            "          20       0.93      0.76      0.84        17\n",
            "          21       1.00      1.00      1.00        19\n",
            "\n",
            "    accuracy                           0.99       440\n",
            "   macro avg       0.99      0.99      0.99       440\n",
            "weighted avg       0.99      0.99      0.99       440\n",
            "\n",
            "Train Accuracy Score:  0.9863636363636363\n"
          ]
        }
      ]
    },
    {
      "cell_type": "code",
      "source": [
        "y_pred_test = model.predict(X_test)\n",
        "conf_mat = confusion_matrix(y_test, y_pred_test)\n",
        "sns.heatmap(conf_mat, annot=True)"
      ],
      "metadata": {
        "execution": {
          "iopub.status.busy": "2022-05-03T12:28:17.238488Z",
          "iopub.execute_input": "2022-05-03T12:28:17.238877Z",
          "iopub.status.idle": "2022-05-03T12:28:17.249523Z",
          "shell.execute_reply.started": "2022-05-03T12:28:17.238848Z",
          "shell.execute_reply": "2022-05-03T12:28:17.248581Z"
        },
        "trusted": true,
        "id": "nNLFb6ba7qat",
        "colab": {
          "base_uri": "https://localhost:8080/",
          "height": 286
        },
        "outputId": "5b2866ed-0468-43c2-cff7-7c771c5180fc"
      },
      "execution_count": null,
      "outputs": [
        {
          "output_type": "execute_result",
          "data": {
            "text/plain": [
              "<matplotlib.axes._subplots.AxesSubplot at 0x7fb3dd38f9d0>"
            ]
          },
          "metadata": {},
          "execution_count": 19
        },
        {
          "output_type": "display_data",
          "data": {
            "text/plain": [
              "<Figure size 432x288 with 2 Axes>"
            ],
            "image/png": "[encoded data removed]"
          },
          "metadata": {
            "needs_background": "light"
          }
        }
      ]
    },
    {
      "cell_type": "code",
      "source": [
        "print(classification_report(y_test, y_pred_test))\n",
        "print('Test Accuracy Score: ', accuracy_score(y_test, y_pred_test))"
      ],
      "metadata": {
        "execution": {
          "iopub.status.busy": "2022-05-03T12:35:37.629821Z",
          "iopub.execute_input": "2022-05-03T12:35:37.630596Z",
          "iopub.status.idle": "2022-05-03T12:35:37.643466Z",
          "shell.execute_reply.started": "2022-05-03T12:35:37.630556Z",
          "shell.execute_reply": "2022-05-03T12:35:37.642547Z"
        },
        "trusted": true,
        "id": "hDd18LKr7qat",
        "colab": {
          "base_uri": "https://localhost:8080/"
        },
        "outputId": "5c576030-12fa-4b65-c805-7247e7d87acd"
      },
      "execution_count": null,
      "outputs": [
        {
          "output_type": "stream",
          "name": "stdout",
          "text": [
            "              precision    recall  f1-score   support\n",
            "\n",
            "           0       1.00      1.00      1.00        83\n",
            "           1       1.00      1.00      1.00        79\n",
            "           2       0.86      0.76      0.81        82\n",
            "           3       1.00      1.00      1.00        82\n",
            "           4       1.00      1.00      1.00        80\n",
            "           5       0.98      1.00      0.99        79\n",
            "           6       0.85      0.95      0.90        78\n",
            "           7       1.00      1.00      1.00        81\n",
            "           8       0.83      0.76      0.79        75\n",
            "           9       0.96      0.95      0.96        84\n",
            "          10       0.85      0.95      0.90        78\n",
            "          11       0.90      0.81      0.86        81\n",
            "          12       0.84      1.00      0.91        75\n",
            "          13       0.79      0.53      0.63        85\n",
            "          14       0.81      1.00      0.89        75\n",
            "          15       1.00      1.00      1.00        81\n",
            "          16       1.00      1.00      1.00        78\n",
            "          17       0.91      0.88      0.89        81\n",
            "          18       0.95      0.92      0.94        79\n",
            "          19       0.95      1.00      0.98        80\n",
            "          20       0.85      0.87      0.86        83\n",
            "          21       1.00      1.00      1.00        81\n",
            "\n",
            "    accuracy                           0.93      1760\n",
            "   macro avg       0.92      0.93      0.92      1760\n",
            "weighted avg       0.92      0.93      0.92      1760\n",
            "\n",
            "Test Accuracy Score:  0.925\n"
          ]
        }
      ]
    },
    {
      "cell_type": "code",
      "source": [
        ""
      ],
      "metadata": {
        "id": "3CCZxjnc7qat"
      },
      "execution_count": null,
      "outputs": []
    },
    {
      "cell_type": "markdown",
      "source": [
        "# Model tested on increased temperatures due to Global Warming"
      ],
      "metadata": {
        "id": "F9QXDjZX-hdW"
      }
    },
    {
      "cell_type": "code",
      "source": [
        "y_pred_normal = model.predict(data.drop(['label', 'labelEncoded'], axis=1))\n",
        "y = data.labelEncoded\n",
        "conf_mat = confusion_matrix(y, y_pred_normal)\n",
        "sns.heatmap(conf_mat, annot=True)\n",
        "print(classification_report(y, y_pred_normal))\n",
        "print('Accuracy Score(Normal): ', accuracy_score(y, y_pred_normal))"
      ],
      "metadata": {
        "colab": {
          "base_uri": "https://localhost:8080/",
          "height": 819
        },
        "id": "xneQ7pqoJDRz",
        "outputId": "f086a91d-760e-40e4-b4f3-144afa0ab7cc"
      },
      "execution_count": null,
      "outputs": [
        {
          "output_type": "stream",
          "name": "stdout",
          "text": [
            "              precision    recall  f1-score   support\n",
            "\n",
            "           0       1.00      1.00      1.00       100\n",
            "           1       1.00      1.00      1.00       100\n",
            "           2       0.89      0.80      0.84       100\n",
            "           3       1.00      1.00      1.00       100\n",
            "           4       1.00      1.00      1.00       100\n",
            "           5       0.98      1.00      0.99       100\n",
            "           6       0.87      0.96      0.91       100\n",
            "           7       1.00      1.00      1.00       100\n",
            "           8       0.84      0.81      0.82       100\n",
            "           9       0.97      0.96      0.96       100\n",
            "          10       0.88      0.96      0.92       100\n",
            "          11       0.92      0.84      0.88       100\n",
            "          12       0.88      1.00      0.93       100\n",
            "          13       0.83      0.60      0.70       100\n",
            "          14       0.85      1.00      0.92       100\n",
            "          15       1.00      1.00      1.00       100\n",
            "          16       1.00      1.00      1.00       100\n",
            "          17       0.93      0.90      0.91       100\n",
            "          18       0.96      0.94      0.95       100\n",
            "          19       0.96      1.00      0.98       100\n",
            "          20       0.86      0.85      0.85       100\n",
            "          21       1.00      1.00      1.00       100\n",
            "\n",
            "    accuracy                           0.94      2200\n",
            "   macro avg       0.94      0.94      0.94      2200\n",
            "weighted avg       0.94      0.94      0.94      2200\n",
            "\n",
            "Accuracy Score(Normal):  0.9372727272727273\n"
          ]
        },
        {
          "output_type": "display_data",
          "data": {
            "text/plain": [
              "<Figure size 432x288 with 2 Axes>"
            ],
            "image/png": "[encoded data removed]"
          },
          "metadata": {
            "needs_background": "light"
          }
        }
      ]
    },
    {
      "cell_type": "code",
      "source": [
        "data['temperature'] = data[\"temperature\"].apply(lambda x:x+random.uniform(1,10))\n",
        "# data['humidity'] = data[\"humidity\"].apply(lambda x:x-random.uniform(1,5))"
      ],
      "metadata": {
        "id": "BfHBoeUP-kje"
      },
      "execution_count": null,
      "outputs": []
    },
    {
      "cell_type": "code",
      "source": [
        "data"
      ],
      "metadata": {
        "colab": {
          "base_uri": "https://localhost:8080/",
          "height": 424
        },
        "id": "t6Ez61gkDWNw",
        "outputId": "3aea83b0-a1f4-45d2-884e-632e6b99632d"
      },
      "execution_count": null,
      "outputs": [
        {
          "output_type": "execute_result",
          "data": {
            "text/plain": [
              "        N   P   K  temperature   humidity        ph    rainfall   label  \\\n",
              "0      90  42  43    30.564853  82.002744  6.502985  202.935536    rice   \n",
              "1      85  58  41    23.990003  80.319644  7.038096  226.655537    rice   \n",
              "2      60  55  44    31.217405  82.320763  7.840207  263.964248    rice   \n",
              "3      74  35  40    30.323660  80.158363  6.980401  242.864034    rice   \n",
              "4      78  42  42    25.369456  81.604873  7.628473  262.717340    rice   \n",
              "...   ...  ..  ..          ...        ...       ...         ...     ...   \n",
              "2195  107  34  32    29.407144  66.413269  6.780064  177.774507  coffee   \n",
              "2196   99  15  27    29.365894  56.636362  6.086922  127.924610  coffee   \n",
              "2197  118  33  30    32.762854  67.225123  6.362608  173.322839  coffee   \n",
              "2198  117  32  34    35.417167  52.127394  6.758793  127.175293  coffee   \n",
              "2199  104  18  30    24.861522  60.396475  6.779833  140.937041  coffee   \n",
              "\n",
              "      labelEncoded  \n",
              "0               20  \n",
              "1               20  \n",
              "2               20  \n",
              "3               20  \n",
              "4               20  \n",
              "...            ...  \n",
              "2195             5  \n",
              "2196             5  \n",
              "2197             5  \n",
              "2198             5  \n",
              "2199             5  \n",
              "\n",
              "[2200 rows x 9 columns]"
            ],
            "text/html": [
              "\n",
              "  <div id=\"df-a516dbaa-d3ea-4dcd-92b9-2e1d664794ef\">\n",
              "    <div class=\"colab-df-container\">\n",
              "      <div>\n",
              "<style scoped>\n",
              "    .dataframe tbody tr th:only-of-type {\n",
              "        vertical-align: middle;\n",
              "    }\n",
              "\n",
              "    .dataframe tbody tr th {\n",
              "        vertical-align: top;\n",
              "    }\n",
              "\n",
              "    .dataframe thead th {\n",
              "        text-align: right;\n",
              "    }\n",
              "</style>\n",
              "<table border=\"1\" class=\"dataframe\">\n",
              "  <thead>\n",
              "    <tr style=\"text-align: right;\">\n",
              "      <th></th>\n",
              "      <th>N</th>\n",
              "      <th>P</th>\n",
              "      <th>K</th>\n",
              "      <th>temperature</th>\n",
              "      <th>humidity</th>\n",
              "      <th>ph</th>\n",
              "      <th>rainfall</th>\n",
              "      <th>label</th>\n",
              "      <th>labelEncoded</th>\n",
              "    </tr>\n",
              "  </thead>\n",
              "  <tbody>\n",
              "    <tr>\n",
              "      <th>0</th>\n",
              "      <td>90</td>\n",
              "      <td>42</td>\n",
              "      <td>43</td>\n",
              "      <td>30.564853</td>\n",
              "      <td>82.002744</td>\n",
              "      <td>6.502985</td>\n",
              "      <td>202.935536</td>\n",
              "      <td>rice</td>\n",
              "      <td>20</td>\n",
              "    </tr>\n",
              "    <tr>\n",
              "      <th>1</th>\n",
              "      <td>85</td>\n",
              "      <td>58</td>\n",
              "      <td>41</td>\n",
              "      <td>23.990003</td>\n",
              "      <td>80.319644</td>\n",
              "      <td>7.038096</td>\n",
              "      <td>226.655537</td>\n",
              "      <td>rice</td>\n",
              "      <td>20</td>\n",
              "    </tr>\n",
              "    <tr>\n",
              "      <th>2</th>\n",
              "      <td>60</td>\n",
              "      <td>55</td>\n",
              "      <td>44</td>\n",
              "      <td>31.217405</td>\n",
              "      <td>82.320763</td>\n",
              "      <td>7.840207</td>\n",
              "      <td>263.964248</td>\n",
              "      <td>rice</td>\n",
              "      <td>20</td>\n",
              "    </tr>\n",
              "    <tr>\n",
              "      <th>3</th>\n",
              "      <td>74</td>\n",
              "      <td>35</td>\n",
              "      <td>40</td>\n",
              "      <td>30.323660</td>\n",
              "      <td>80.158363</td>\n",
              "      <td>6.980401</td>\n",
              "      <td>242.864034</td>\n",
              "      <td>rice</td>\n",
              "      <td>20</td>\n",
              "    </tr>\n",
              "    <tr>\n",
              "      <th>4</th>\n",
              "      <td>78</td>\n",
              "      <td>42</td>\n",
              "      <td>42</td>\n",
              "      <td>25.369456</td>\n",
              "      <td>81.604873</td>\n",
              "      <td>7.628473</td>\n",
              "      <td>262.717340</td>\n",
              "      <td>rice</td>\n",
              "      <td>20</td>\n",
              "    </tr>\n",
              "    <tr>\n",
              "      <th>...</th>\n",
              "      <td>...</td>\n",
              "      <td>...</td>\n",
              "      <td>...</td>\n",
              "      <td>...</td>\n",
              "      <td>...</td>\n",
              "      <td>...</td>\n",
              "      <td>...</td>\n",
              "      <td>...</td>\n",
              "      <td>...</td>\n",
              "    </tr>\n",
              "    <tr>\n",
              "      <th>2195</th>\n",
              "      <td>107</td>\n",
              "      <td>34</td>\n",
              "      <td>32</td>\n",
              "      <td>29.407144</td>\n",
              "      <td>66.413269</td>\n",
              "      <td>6.780064</td>\n",
              "      <td>177.774507</td>\n",
              "      <td>coffee</td>\n",
              "      <td>5</td>\n",
              "    </tr>\n",
              "    <tr>\n",
              "      <th>2196</th>\n",
              "      <td>99</td>\n",
              "      <td>15</td>\n",
              "      <td>27</td>\n",
              "      <td>29.365894</td>\n",
              "      <td>56.636362</td>\n",
              "      <td>6.086922</td>\n",
              "      <td>127.924610</td>\n",
              "      <td>coffee</td>\n",
              "      <td>5</td>\n",
              "    </tr>\n",
              "    <tr>\n",
              "      <th>2197</th>\n",
              "      <td>118</td>\n",
              "      <td>33</td>\n",
              "      <td>30</td>\n",
              "      <td>32.762854</td>\n",
              "      <td>67.225123</td>\n",
              "      <td>6.362608</td>\n",
              "      <td>173.322839</td>\n",
              "      <td>coffee</td>\n",
              "      <td>5</td>\n",
              "    </tr>\n",
              "    <tr>\n",
              "      <th>2198</th>\n",
              "      <td>117</td>\n",
              "      <td>32</td>\n",
              "      <td>34</td>\n",
              "      <td>35.417167</td>\n",
              "      <td>52.127394</td>\n",
              "      <td>6.758793</td>\n",
              "      <td>127.175293</td>\n",
              "      <td>coffee</td>\n",
              "      <td>5</td>\n",
              "    </tr>\n",
              "    <tr>\n",
              "      <th>2199</th>\n",
              "      <td>104</td>\n",
              "      <td>18</td>\n",
              "      <td>30</td>\n",
              "      <td>24.861522</td>\n",
              "      <td>60.396475</td>\n",
              "      <td>6.779833</td>\n",
              "      <td>140.937041</td>\n",
              "      <td>coffee</td>\n",
              "      <td>5</td>\n",
              "    </tr>\n",
              "  </tbody>\n",
              "</table>\n",
              "<p>2200 rows × 9 columns</p>\n",
              "</div>\n",
              "      <button class=\"colab-df-convert\" onclick=\"convertToInteractive('df-a516dbaa-d3ea-4dcd-92b9-2e1d664794ef')\"\n",
              "              title=\"Convert this dataframe to an interactive table.\"\n",
              "              style=\"display:none;\">\n",
              "        \n",
              "  <svg xmlns=\"http://www.w3.org/2000/svg\" height=\"24px\"viewBox=\"0 0 24 24\"\n",
              "       width=\"24px\">\n",
              "    <path d=\"M0 0h24v24H0V0z\" fill=\"none\"/>\n",
              "    <path d=\"M18.56 5.44l.94 2.06.94-2.06 2.06-.94-2.06-.94-.94-2.06-.94 2.06-2.06.94zm-11 1L8.5 8.5l.94-2.06 2.06-.94-2.06-.94L8.5 2.5l-.94 2.06-2.06.94zm10 10l.94 2.06.94-2.06 2.06-.94-2.06-.94-.94-2.06-.94 2.06-2.06.94z\"/><path d=\"M17.41 7.96l-1.37-1.37c-.4-.4-.92-.59-1.43-.59-.52 0-1.04.2-1.43.59L10.3 9.45l-7.72 7.72c-.78.78-.78 2.05 0 2.83L4 21.41c.39.39.9.59 1.41.59.51 0 1.02-.2 1.41-.59l7.78-7.78 2.81-2.81c.8-.78.8-2.07 0-2.86zM5.41 20L4 18.59l7.72-7.72 1.47 1.35L5.41 20z\"/>\n",
              "  </svg>\n",
              "      </button>\n",
              "      \n",
              "  <style>\n",
              "    .colab-df-container {\n",
              "      display:flex;\n",
              "      flex-wrap:wrap;\n",
              "      gap: 12px;\n",
              "    }\n",
              "\n",
              "    .colab-df-convert {\n",
              "      background-color: #E8F0FE;\n",
              "      border: none;\n",
              "      border-radius: 50%;\n",
              "      cursor: pointer;\n",
              "      display: none;\n",
              "      fill: #1967D2;\n",
              "      height: 32px;\n",
              "      padding: 0 0 0 0;\n",
              "      width: 32px;\n",
              "    }\n",
              "\n",
              "    .colab-df-convert:hover {\n",
              "      background-color: #E2EBFA;\n",
              "      box-shadow: 0px 1px 2px rgba(60, 64, 67, 0.3), 0px 1px 3px 1px rgba(60, 64, 67, 0.15);\n",
              "      fill: #174EA6;\n",
              "    }\n",
              "\n",
              "    [theme=dark] .colab-df-convert {\n",
              "      background-color: #3B4455;\n",
              "      fill: #D2E3FC;\n",
              "    }\n",
              "\n",
              "    [theme=dark] .colab-df-convert:hover {\n",
              "      background-color: #434B5C;\n",
              "      box-shadow: 0px 1px 3px 1px rgba(0, 0, 0, 0.15);\n",
              "      filter: drop-shadow(0px 1px 2px rgba(0, 0, 0, 0.3));\n",
              "      fill: #FFFFFF;\n",
              "    }\n",
              "  </style>\n",
              "\n",
              "      <script>\n",
              "        const buttonEl =\n",
              "          document.querySelector('#df-a516dbaa-d3ea-4dcd-92b9-2e1d664794ef button.colab-df-convert');\n",
              "        buttonEl.style.display =\n",
              "          google.colab.kernel.accessAllowed ? 'block' : 'none';\n",
              "\n",
              "        async function convertToInteractive(key) {\n",
              "          const element = document.querySelector('#df-a516dbaa-d3ea-4dcd-92b9-2e1d664794ef');\n",
              "          const dataTable =\n",
              "            await google.colab.kernel.invokeFunction('convertToInteractive',\n",
              "                                                     [key], {});\n",
              "          if (!dataTable) return;\n",
              "\n",
              "          const docLinkHtml = 'Like what you see? Visit the ' +\n",
              "            '<a target=\"_blank\" href=https://colab.research.google.com/notebooks/data_table.ipynb>data table notebook</a>'\n",
              "            + ' to learn more about interactive tables.';\n",
              "          element.innerHTML = '';\n",
              "          dataTable['output_type'] = 'display_data';\n",
              "          await google.colab.output.renderOutput(dataTable, element);\n",
              "          const docLink = document.createElement('div');\n",
              "          docLink.innerHTML = docLinkHtml;\n",
              "          element.appendChild(docLink);\n",
              "        }\n",
              "      </script>\n",
              "    </div>\n",
              "  </div>\n",
              "  "
            ]
          },
          "metadata": {},
          "execution_count": 23
        }
      ]
    },
    {
      "cell_type": "code",
      "source": [
        "X = data.drop(['label', 'labelEncoded'], axis=1)\n",
        "y = data.labelEncoded"
      ],
      "metadata": {
        "id": "y_dtpinYDVYu"
      },
      "execution_count": null,
      "outputs": []
    },
    {
      "cell_type": "code",
      "source": [
        "y_pred_temp_inc = model.predict(X)"
      ],
      "metadata": {
        "id": "off4Rmp1F4GV"
      },
      "execution_count": null,
      "outputs": []
    },
    {
      "cell_type": "code",
      "source": [
        "conf_mat = confusion_matrix(y, y_pred_temp_inc)\n",
        "sns.heatmap(conf_mat, annot=True)\n",
        "print(classification_report(y, y_pred_temp_inc))\n",
        "print('Accuracy Score(Increased Temp): ', accuracy_score(y, y_pred_temp_inc))"
      ],
      "metadata": {
        "colab": {
          "base_uri": "https://localhost:8080/",
          "height": 819
        },
        "id": "C1-xsuIMF9_T",
        "outputId": "87cef77e-a6ab-4aea-f7a8-10c756e73b47"
      },
      "execution_count": null,
      "outputs": [
        {
          "output_type": "stream",
          "name": "stdout",
          "text": [
            "              precision    recall  f1-score   support\n",
            "\n",
            "           0       1.00      1.00      1.00       100\n",
            "           1       1.00      1.00      1.00       100\n",
            "           2       0.89      0.59      0.71       100\n",
            "           3       1.00      1.00      1.00       100\n",
            "           4       1.00      1.00      1.00       100\n",
            "           5       0.95      1.00      0.98       100\n",
            "           6       0.88      0.96      0.92       100\n",
            "           7       1.00      1.00      1.00       100\n",
            "           8       0.75      0.87      0.81       100\n",
            "           9       1.00      0.88      0.94       100\n",
            "          10       0.97      0.73      0.83       100\n",
            "          11       0.93      0.84      0.88       100\n",
            "          12       0.79      1.00      0.88       100\n",
            "          13       0.54      0.80      0.65       100\n",
            "          14       0.88      1.00      0.94       100\n",
            "          15       1.00      1.00      1.00       100\n",
            "          16       1.00      1.00      1.00       100\n",
            "          17       0.93      0.76      0.84       100\n",
            "          18       0.90      0.93      0.92       100\n",
            "          19       0.96      1.00      0.98       100\n",
            "          20       0.95      0.72      0.82       100\n",
            "          21       1.00      1.00      1.00       100\n",
            "\n",
            "    accuracy                           0.91      2200\n",
            "   macro avg       0.92      0.91      0.91      2200\n",
            "weighted avg       0.92      0.91      0.91      2200\n",
            "\n",
            "Accuracy Score(Increased Temp):  0.9127272727272727\n"
          ]
        },
        {
          "output_type": "display_data",
          "data": {
            "text/plain": [
              "<Figure size 432x288 with 2 Axes>"
            ],
            "image/png": "[encoded data removed]"
          },
          "metadata": {
            "needs_background": "light"
          }
        }
      ]
    },
    {
      "cell_type": "code",
      "source": [
        ""
      ],
      "metadata": {
        "id": "IEXILpk_I8NX"
      },
      "execution_count": null,
      "outputs": []
    }
  ]
}